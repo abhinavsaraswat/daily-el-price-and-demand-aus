{
  "nbformat": 4,
  "nbformat_minor": 0,
  "metadata": {
    "colab": {
      "name": "Untitled0.ipynb",
      "private_outputs": true,
      "provenance": [],
      "mount_file_id": "1b-MFOQQhoNnRwI_wrBojPrEkfLANMzAV",
      "authorship_tag": "ABX9TyOcvM/gl4PcXXbCfuDdu4o/"
    },
    "kernelspec": {
      "name": "python3",
      "display_name": "Python 3"
    },
    "language_info": {
      "name": "python"
    }
  },
  "cells": [
    {
      "cell_type": "code",
      "execution_count": null,
      "metadata": {
        "id": "CqcDrytKGici"
      },
      "outputs": [],
      "source": [
        ""
      ]
    }
  ]
}